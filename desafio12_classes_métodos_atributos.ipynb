{
  "nbformat": 4,
  "nbformat_minor": 0,
  "metadata": {
    "colab": {
      "provenance": [],
      "authorship_tag": "ABX9TyMtMieHJVFnH7K9mcYMEmYq",
      "include_colab_link": true
    },
    "kernelspec": {
      "name": "python3",
      "display_name": "Python 3"
    },
    "language_info": {
      "name": "python"
    }
  },
  "cells": [
    {
      "cell_type": "markdown",
      "metadata": {
        "id": "view-in-github",
        "colab_type": "text"
      },
      "source": [
        "<a href=\"https://colab.research.google.com/github/DataDaniels/python_desafio_devpro/blob/main/desafio12_classes_m%C3%A9todos_atributos.ipynb\" target=\"_parent\"><img src=\"https://colab.research.google.com/assets/colab-badge.svg\" alt=\"Open In Colab\"/></a>"
      ]
    },
    {
      "cell_type": "markdown",
      "source": [
        "## CLASSE BOLA"
      ],
      "metadata": {
        "id": "mDxpuqvdErjw"
      }
    },
    {
      "cell_type": "markdown",
      "source": [
        "Nosso programa irá criar uma classe que modelo uma bola. Uma classe é uma estrutura de dados é uma forma de você criar seus próprios tipos de dados (além de str, int, float etc...)\n",
        "\n",
        "Atributos: cor, circunferência, material\n",
        "\n",
        "Método: troca_cor e mostra_cor (sempre em snake_case)\n",
        "\n"
      ],
      "metadata": {
        "id": "Z493pZcIE4wE"
      }
    },
    {
      "cell_type": "markdown",
      "source": [
        "O codigo foi quebrado em 3 células por conta das anotações. Está acumulado ou seja, na última célula está o código completo e na versão final.\n",
        "\n",
        "As primeiras células contém obervações sobretudo das primeiras partes do código."
      ],
      "metadata": {
        "id": "hTYuUUI_irNc"
      }
    },
    {
      "cell_type": "code",
      "source": [
        "# Para criar uma classe se usa \"class\" e o nome da classe sempre deve iniciar com letra maiúscula. Se for uma classe se nome composto, a segunda palavra também teria a primeira letra maiúscula.\n",
        "# Este padrão de escrita chama-se CamalCase pois lembra as corcovas do camelo, possivelmente é por isso.\n",
        "class CirculoPerfeito:\n",
        "# A classe pressupõe que sempre eu informe algum valor depois de determiná-la, caso não queira basta inserir o valor reservado \"pass\"\n",
        "  pass\n",
        "# Abaixo são criados os \"objetos\" pertencentes à classe\n",
        "circulo_primeiro = CirculoPerfeito()\n",
        "circulo_segundo = CirculoPerfeito()\n",
        "# É possível ver que o tipo \"type\" da classe é um novo tipo  <class '__main__.CirculoPerfeito'>\n",
        "print(type(circulo_primeiro))\n",
        "# É possível verificar também que um circulo é diferente do outro, são objetos diferentes \"circulo_primeiro is circulo_segundo\"\n",
        "print(circulo_primeiro is circulo_segundo)"
      ],
      "metadata": {
        "colab": {
          "base_uri": "https://localhost:8080/"
        },
        "id": "FW5pqzAtJrHQ",
        "outputId": "96b35667-f8a4-4b26-b3c1-20c8f7c69f3c"
      },
      "execution_count": null,
      "outputs": [
        {
          "output_type": "stream",
          "name": "stdout",
          "text": [
            "<class '__main__.CirculoPerfeito'>\n",
            "False\n"
          ]
        }
      ]
    },
    {
      "cell_type": "code",
      "source": [
        "class CirculoPerfeito:\n",
        "# Método: o método irá executar alguma ação sobre o objeto. Sempre é necessário inserir o parâmetro e por convenção se insere o \"self\"\n",
        "  def mostra_cor(self):\n",
        "    return id(self)\n",
        "\n",
        "circulo_primeiro = CirculoPerfeito()\n",
        "circulo_segundo = CirculoPerfeito()\n",
        "\n",
        "print(type(circulo_primeiro))\n",
        "print(circulo_primeiro is circulo_segundo)\n",
        "# Interssante annalisar que em \"circulo_primeiro.mostra_cor()\" não é passado parâmetro pois o parâmetro é implicito, por isso exibe o mesmo id\n",
        "# IMPORTANTE: sempre que eu executo um médoto através de um objeto este ojeto me é passado como primeiro parâmetro do método\n",
        "print(id(circulo_primeiro), circulo_primeiro.mostra_cor())\n",
        "print(id(circulo_segundo), circulo_segundo.mostra_cor())"
      ],
      "metadata": {
        "colab": {
          "base_uri": "https://localhost:8080/"
        },
        "id": "KuuVsbPUJu99",
        "outputId": "659335e8-cf6b-4f6f-ec7d-e2a9d55648b7"
      },
      "execution_count": 3,
      "outputs": [
        {
          "output_type": "stream",
          "name": "stdout",
          "text": [
            "<class '__main__.CirculoPerfeito'>\n",
            "False\n",
            "137473132519024 137473132519024\n",
            "137473132526752 137473132526752\n"
          ]
        }
      ]
    },
    {
      "cell_type": "code",
      "source": [
        "class CirculoPerfeito:\n",
        "# Atributo: para se criar um atributo se usa um método chamado \"Dunder\" por conta do double underline. \"__init__\" . Ele cria os atributos de dados dos obj.\n",
        "# Se passa o sef como objeto e os atributos começam com self também tendo então self + o nome + os valores\n",
        "  def __init__(self):\n",
        "    self.cor = 'Azul'\n",
        "    self.circunferencia = 4\n",
        "    self.material = 'Papel'\n",
        "\n",
        "# Método: o método irá executar alguma ação sobre o objeto. Sempre é necessário inserir o parâmetro e por convenção se insere o \"self\"\n",
        "  def mostra_cor(self):\n",
        "    return self.cor\n",
        "# Este outro método serve para trocar a cor, é passado o objeto (self) e o parâmetro cor. Dessa forma na linha 19 é possível que troca a cor.\n",
        "  def troca_cor(self, cor):\n",
        "    self.cor = cor\n",
        "\n",
        "circulo_primeiro = CirculoPerfeito()\n",
        "circulo_segundo = CirculoPerfeito()\n",
        "# Interessante que é possível alterar o valor do atributo apenas informando-o como abaixo:\n",
        "circulo_segundo.troca_cor ('Amarelo')\n",
        "print(type(circulo_primeiro))\n",
        "print(circulo_primeiro is circulo_segundo)\n",
        "\n",
        "circulo_segundo.circunferencia = 6\n",
        "\n",
        "# Interssante annalisar que em \"circulo_primeiro.mostra_cor()\" não é passado parâmetro pois o parâmetro é implicito, por isso exibe o mesmo id\n",
        "# IMPORTANTE: sempre que eu executo um médoto através de um objeto este ojeto me é passado como primeiro parâmetro do método\n",
        "print(id(circulo_primeiro), circulo_primeiro.mostra_cor())\n",
        "print(id(circulo_segundo), circulo_segundo.mostra_cor())\n",
        "# Este print abaixo permite acessar os valores dos atributos através da estrutura objeto + atributo (circulo_primeiro.cor)\n",
        "print(circulo_primeiro.cor, circulo_segundo.cor)\n",
        "print(circulo_primeiro.circunferencia, circulo_segundo.circunferencia)\n"
      ],
      "metadata": {
        "id": "MoPu1bxLJ6MW",
        "colab": {
          "base_uri": "https://localhost:8080/"
        },
        "outputId": "78c78a25-926e-4425-e891-5d0240378cda"
      },
      "execution_count": 18,
      "outputs": [
        {
          "output_type": "stream",
          "name": "stdout",
          "text": [
            "<class '__main__.CirculoPerfeito'>\n",
            "False\n",
            "137473132519312 Azul\n",
            "137473132523488 Amarelo\n",
            "Azul Amarelo\n",
            "4 6\n"
          ]
        }
      ]
    }
  ]
}