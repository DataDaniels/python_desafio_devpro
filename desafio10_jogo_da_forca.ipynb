{
  "nbformat": 4,
  "nbformat_minor": 0,
  "metadata": {
    "colab": {
      "provenance": [],
      "authorship_tag": "ABX9TyP2NMG1Ax8bY6qXHyHfQUPd",
      "include_colab_link": true
    },
    "kernelspec": {
      "name": "python3",
      "display_name": "Python 3"
    },
    "language_info": {
      "name": "python"
    }
  },
  "cells": [
    {
      "cell_type": "markdown",
      "metadata": {
        "id": "view-in-github",
        "colab_type": "text"
      },
      "source": [
        "<a href=\"https://colab.research.google.com/github/DataDaniels/python_desafio_devpro/blob/main/desafio10_jogo_da_forca.ipynb\" target=\"_parent\"><img src=\"https://colab.research.google.com/assets/colab-badge.svg\" alt=\"Open In Colab\"/></a>"
      ]
    },
    {
      "cell_type": "markdown",
      "source": [
        "## JOGO DA FORCA"
      ],
      "metadata": {
        "id": "sq0Ch--uEtXV"
      }
    },
    {
      "cell_type": "markdown",
      "source": [
        "Este programa executa o famoso jogo da forca. O usuário informará a letra e caso erre o programa informará em qual erro estará. Caso acerte o programa posicionará a letra no local correto, como de fato funciona o jogo da forca\n",
        "\n",
        "O limite é de 6 erros."
      ],
      "metadata": {
        "id": "2o6AYP-oFB6E"
      }
    },
    {
      "cell_type": "code",
      "execution_count": 5,
      "metadata": {
        "colab": {
          "base_uri": "https://localhost:8080/"
        },
        "id": "17lFdC_gEnBB",
        "outputId": "47fc0c93-510f-40c6-dcc7-302db8aa2c2c"
      },
      "outputs": [
        {
          "output_type": "stream",
          "name": "stdout",
          "text": [
            "Jogo da forca\n",
            "Descubra a palavra\n",
            "A palavra é: _ _ _ _ _ _ \n",
            "\n",
            "Digite uma letra: d\n",
            "A palavra é: D _ _ _ _ _ \n",
            "Letras já digitadas:  {'D'}\n",
            "\n",
            "\n",
            "Digite uma letra: a\n",
            "A palavra é: D A _ _ _ _ \n",
            "Letras já digitadas:  {'A', 'D'}\n",
            "\n",
            "\n",
            "Digite uma letra: t\n",
            "-> Erro 1 de 6. Tente de novo!\n",
            "\n",
            "Letras já digitadas:  {'A', 'D', 'T'}\n",
            "\n",
            "\n",
            "Digite uma letra: b\n",
            "-> Erro 2 de 6. Tente de novo!\n",
            "\n",
            "Letras já digitadas:  {'A', 'B', 'D', 'T'}\n",
            "\n",
            "\n",
            "Digite uma letra: l\n",
            "A palavra é: D A _ _ _ L \n",
            "Letras já digitadas:  {'B', 'A', 'L', 'T', 'D'}\n",
            "\n",
            "\n",
            "Digite uma letra: ç\n",
            "-> Erro 3 de 6. Tente de novo!\n",
            "\n",
            "Letras já digitadas:  {'B', 'A', 'L', 'T', 'D', 'Ç'}\n",
            "\n",
            "\n",
            "Digite uma letra: n\n",
            "A palavra é: D A N _ _ L \n",
            "Letras já digitadas:  {'B', 'A', 'L', 'T', 'N', 'D', 'Ç'}\n",
            "\n",
            "\n",
            "Digite uma letra: i\n",
            "A palavra é: D A N I _ L \n",
            "Letras já digitadas:  {'B', 'A', 'L', 'I', 'T', 'N', 'D', 'Ç'}\n",
            "\n",
            "\n",
            "Digite uma letra: e\n",
            "A palavra é: D A N I E L \n",
            "Letras já digitadas:  {'B', 'A', 'L', 'E', 'I', 'T', 'N', 'D', 'Ç'}\n",
            "Parabéns, você ganhou!\n"
          ]
        }
      ],
      "source": [
        "# Na variável \"palavra\" armazenamos a palavra da forca e com letra maiúscula através da função \"upper\"\n",
        "palavra = 'Daniel'.upper()\n",
        "\n",
        "# Os dois prints que seguem são instruções do jogo para o usuário para o usuário\n",
        "print('Jogo da forca')\n",
        "print('Descubra a palavra')\n",
        "\n",
        "# Nestas linhas é possível exibir a palavra e com o loop \"for\" letra in palavra que é nossa variável da palavra da forca, exibirá exatamente a quantidade de letras da palavra\n",
        "# O uso do \"end='' \" existe para que não se pule linhas. No print utilizando underline \"_\" exibimos o jogo visualmente como de fato é _ _ _ _ _ _\n",
        "print('A palavra é: ', end='')\n",
        "for letra in palavra:\n",
        "  print('_ ', end='')\n",
        "\n",
        "# É necessário criar um conjunto onde temos valores e inserimos a variável palavra como parâmetro\n",
        "# Conjuntos: os conjuntos nos permitem realizar comparações entre os elementos de outros conjuntos\n",
        "conjunto_letras_palavra = set(palavra)\n",
        "# Abaixo temos outro conjunto onde será de nosso valor digitado pelo usuário\n",
        "conjunto_letras_digitadas = set()\n",
        "# Nesta variável teremos a quantidade de erros das tentativas de nosso usuário\n",
        "erros = 0\n",
        "\n",
        "# No loop do While determinamos que se a letra informada pelo usuário não \"not\" estiver dentro do conjunto (da palavra) continuará a dar chances ao usuário\n",
        "# Com a observação de que o a quantidade de erros deve ser menos que 7 ou seja, 6 erros é o limite.\n",
        "# (\"conjunto_letras_palavra\" é um \"subconjunto\" ou \"issubset\" do \"conjunto_letras_digitadas\")\n",
        "# As regras iniciadas do While em diante tratam as condicionais que são aplicadas: onde exibe a letra informada pelo usuario, quantidade e erros e se o usuário perdeu ou ganhou.\n",
        "while (not conjunto_letras_palavra.issubset(conjunto_letras_digitadas)) and erros < 7:\n",
        "\n",
        "# Os dois prints servem para pular linhas\n",
        "  print()\n",
        "  print()\n",
        "# Abaixo o input do usuário utilizando \"upper\" ao final para transformar em letra maiúscula independente da entrada\n",
        "  letra_digitada = input('Digite uma letra: ').upper()\n",
        "# Abaixo mencionamos o conjunto \"conjunto_letras_digitadas\" + a função \"add\" para adicionar a letra \"letra_digitada\" pelo usuário no conjunto\n",
        "  conjunto_letras_digitadas.add(letra_digitada)\n",
        "# As regras condicionais farão as regras sendo: se a letra informada pelo usuário estiver dentro do \"conjunto_letras_palavra\" deverá exibir o texto + letra\n",
        "  if letra_digitada in conjunto_letras_palavra:\n",
        "    print('A palavra é: ', end='')\n",
        "    for letra in palavra:\n",
        "      if letra in conjunto_letras_digitadas:\n",
        "        print(f'{letra} ', end='')\n",
        "# Senão exibe _\n",
        "      else:\n",
        "        print('_ ', end='')\n",
        "# Se não estiver dentro da palavra contabilizar como erro e exibir quantidade de erros + mensagem\n",
        "  else:\n",
        "    erros += 1\n",
        "    print(f'-> Erro {erros} de 6. Tente de novo!')\n",
        "\n",
        "# print para pular linha e outro para exibir o conjunto de letras já digitadas pelo usuário\n",
        "  print()\n",
        "  print('Letras já digitadas: ', conjunto_letras_digitadas)\n",
        "\n",
        "# regra final que define se o errou menos de 7 vezes e acertou então ganhou senão perdeu.\n",
        "if erros < 7:\n",
        "  print('Parabéns, você ganhou!')\n",
        "else:\n",
        "  print('Infelizmente você perdeu!')"
      ]
    }
  ]
}