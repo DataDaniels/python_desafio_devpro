{
  "nbformat": 4,
  "nbformat_minor": 0,
  "metadata": {
    "colab": {
      "provenance": [],
      "authorship_tag": "ABX9TyNOKIyPR+axLDKBa1SZFOPk",
      "include_colab_link": true
    },
    "kernelspec": {
      "name": "python3",
      "display_name": "Python 3"
    },
    "language_info": {
      "name": "python"
    }
  },
  "cells": [
    {
      "cell_type": "markdown",
      "metadata": {
        "id": "view-in-github",
        "colab_type": "text"
      },
      "source": [
        "<a href=\"https://colab.research.google.com/github/DataDaniels/python_desafio_devpro/blob/main/desafio7_calcular_notas_e_medias_alunos.ipynb\" target=\"_parent\"><img src=\"https://colab.research.google.com/assets/colab-badge.svg\" alt=\"Open In Colab\"/></a>"
      ]
    },
    {
      "cell_type": "markdown",
      "source": [
        "A função \"len\" do inglês length, tamanho(comprimento), serve para calcular o tamanho da lista\n",
        "\n",
        "Para juntar todas as notas se usa a função \"join\" que juntará de acordo com o parâmetro passado, por exemplo: '' pra espaço, '--' traços e etc. Para juntar com espaço basta inserir espaços entre as aspas simples ' ' .\n",
        "\n",
        "Porém a função \"join\" é válida somente para elementos(valores) do tipo string e temos números int na lista. Se executar será possível notar que o programa esperava instâncias de string porém encontro int .\n",
        "\n",
        "Optei por quebrar o código em diversas céclulas para obter melhor visualização do usuário que o irá analisar.\n"
      ],
      "metadata": {
        "id": "Tce5h0lSJTES"
      }
    },
    {
      "cell_type": "code",
      "execution_count": null,
      "metadata": {
        "colab": {
          "base_uri": "https://localhost:8080/"
        },
        "id": "W6_5EL4ZI18J",
        "outputId": "1853a0fe-d442-4a78-a216-991ec85c5f53"
      },
      "outputs": [
        {
          "output_type": "stream",
          "name": "stdout",
          "text": [
            "Foram lidas 4 notas\n",
            "Renzo dos Santos\n"
          ]
        }
      ],
      "source": [
        "# Célula para demonstrar a usabilidade da expressão passando a variável notas sem juntá-la, apenas contando a quantidade de elementos da lista.\n",
        "\n",
        "notas = [10, 5.5, 7, 9]\n",
        "tamanho = len(notas)\n",
        "print(f'Foram lidas {tamanho} notas')\n",
        "print(' '.join(['Renzo' , 'dos', 'Santos']))"
      ]
    },
    {
      "cell_type": "code",
      "source": [
        "# Para juntar os números da lista será necessário tranformar os números na lista utilizano \"list comprehension\", ela serve para transformar os elementos da lista.\n",
        "# Através da expressão (' '.join([str(nota) for nota in notas])) int em str\n",
        "# Dessa forma é possível ver que os valores foram exibidos um ao lado do outro.\n",
        "\n",
        "notas = [10, 8.5, 7, 9]\n",
        "tamanho = len(notas)\n",
        "print(f'Foram lidas {tamanho} notas')\n",
        "print(' '.join([str(nota) for nota in notas]))"
      ],
      "metadata": {
        "colab": {
          "base_uri": "https://localhost:8080/"
        },
        "id": "5WY2bmgvLEb2",
        "outputId": "3591063d-25ed-4627-c353-f21f89ce2ec7"
      },
      "execution_count": null,
      "outputs": [
        {
          "output_type": "stream",
          "name": "stdout",
          "text": [
            "Foram lidas 4 notas\n",
            "10 8.5 7 9\n"
          ]
        }
      ]
    },
    {
      "cell_type": "code",
      "source": [
        "# Para exibir uma linha baixo da outra será usada a função \"notas.reverse\" e em seguinda a função \"for noa in notas\"\n",
        "# É indicado ler a list comprehension ao contrário como \"for nota in notas\" e se imprime a nota: ou seja, \"for\" para cada \"nota\" \"in\" \"notas\" execute a expressão \"str(nota)\"\n",
        "# Como mantemos as duas expressões, a lista será empressa uma ao lado da outra e uma embaixo da outra porém ao contrário por conta da expressão \"notas.reverse()\"\n",
        "notas = [10, 5.5, 7, 9]\n",
        "tamanho = len(notas)\n",
        "print(f'Foram lidas {tamanho} notas')\n",
        "print(' '.join([str(nota) for nota in notas]))\n",
        "notas.reverse()\n",
        "\n",
        "for nota in notas:\n",
        "  print(nota)"
      ],
      "metadata": {
        "colab": {
          "base_uri": "https://localhost:8080/"
        },
        "id": "MXn_L4obNkj3",
        "outputId": "b2b9bd89-8992-49ec-acbc-5c4ecd496303"
      },
      "execution_count": null,
      "outputs": [
        {
          "output_type": "stream",
          "name": "stdout",
          "text": [
            "Foram lidas 4 notas\n",
            "10 5.5 7 9\n",
            "9\n",
            "7\n",
            "5.5\n",
            "10\n"
          ]
        }
      ]
    },
    {
      "cell_type": "code",
      "source": [
        "# Nesta célula vamos somar os valores\n",
        "# Basta utilizar a função soma e passar a variável \"notas\" e em seguida fazer um print com f string passando a váriável \"soma\"\n",
        "notas = [10, 5.5, 7, 9]\n",
        "tamanho = len(notas)\n",
        "print(f'Foram lidas {tamanho} notas')\n",
        "print(' '.join([str(nota) for nota in notas]))\n",
        "notas.reverse()\n",
        "\n",
        "for nota in notas:\n",
        "  print(nota)\n",
        "\n",
        "soma = sum(notas)\n",
        "\n",
        "print(f'Soma das notas é: {soma}')"
      ],
      "metadata": {
        "colab": {
          "base_uri": "https://localhost:8080/"
        },
        "id": "HWg0PlofPiVI",
        "outputId": "c582a092-c95e-4abf-e8be-18907dcd85f6"
      },
      "execution_count": null,
      "outputs": [
        {
          "output_type": "stream",
          "name": "stdout",
          "text": [
            "Foram lidas 4 notas\n",
            "10 5.5 7 9\n",
            "9\n",
            "7\n",
            "5.5\n",
            "10\n",
            "Soma das notas é: 31.5\n"
          ]
        }
      ]
    },
    {
      "cell_type": "code",
      "source": [
        "# Nesta célula vamos cálcular a média\n",
        "# Basta realizar uma divisão entre a variável soma e tamanho (pois já temos a quantidade de elementos e média é = quantidade / total de elementos)\n",
        "notas = [10, 5.5, 7, 9]\n",
        "tamanho = len(notas)\n",
        "print(f'Foram lidas {tamanho} notas')\n",
        "print(' '.join([str(nota) for nota in notas]))\n",
        "notas.reverse()\n",
        "\n",
        "for nota in notas:\n",
        "  print(nota)\n",
        "\n",
        "soma = sum(notas)\n",
        "\n",
        "print(f'Soma das notas é: {soma}')\n",
        "\n",
        "print(f'Média das notas é: {soma / tamanho}')"
      ],
      "metadata": {
        "colab": {
          "base_uri": "https://localhost:8080/"
        },
        "id": "sc7Y1IvOQePw",
        "outputId": "a951943c-91a2-4c1b-a023-3e7a6f2fb243"
      },
      "execution_count": null,
      "outputs": [
        {
          "output_type": "stream",
          "name": "stdout",
          "text": [
            "Foram lidas 4 notas\n",
            "10 5.5 7 9\n",
            "9\n",
            "7\n",
            "5.5\n",
            "10\n",
            "Soma das notas é: 31.5\n",
            "Média das notas é: 7.875\n"
          ]
        }
      ]
    },
    {
      "cell_type": "code",
      "source": [
        "# A expressão de list comprehension permite que faça um filtro no final considerando alguns valores e outros não.\n",
        "# Exemplo, eu posso considerar os valores maiores do que a média.\n",
        "# É interessane portanto transformar a média em uma variável.\n",
        "# No exemplo colocamos também para exibir somente notas abaixo de 7 e uma mensagem para encerrar o programa\n",
        "notas = [10, 5.5, 7, 9]\n",
        "tamanho = len(notas)\n",
        "print(f'Foram lidas {tamanho} notas')\n",
        "print(' '.join([str(nota) for nota in notas]))\n",
        "notas.reverse()\n",
        "\n",
        "# ----\n",
        "for nota in notas:\n",
        "  print(nota)\n",
        "\n",
        "# ---\n",
        "soma = sum(notas)\n",
        "print(f'Soma das notas é: {soma}')\n",
        "\n",
        "# ---\n",
        "media = soma / tamanho\n",
        "print(f'A média das notas é: {media}')\n",
        "\n",
        "# ---\n",
        "print(' '.join([str(nota) for nota in notas if nota > media]))\n",
        "\n",
        "# ---\n",
        "print('Notas abaixo de 7: ')\n",
        "print(' '.join([str(nota) for nota in notas if nota < 7]))\n",
        "\n",
        "print('Encerrado o programa de estatística de novas')\n"
      ],
      "metadata": {
        "id": "g49gK5nBQkUD",
        "colab": {
          "base_uri": "https://localhost:8080/"
        },
        "outputId": "9b11b9cc-08f1-4949-f364-17d55af9da7b"
      },
      "execution_count": 15,
      "outputs": [
        {
          "output_type": "stream",
          "name": "stdout",
          "text": [
            "Foram lidas 4 notas\n",
            "10 5.5 7 9\n",
            "9\n",
            "7\n",
            "5.5\n",
            "10\n",
            "Soma das notas é: 31.5\n",
            "A média das notas é: 7.875\n",
            "9 10\n",
            "Notas abaixo de 7: \n",
            "5.5\n"
          ]
        }
      ]
    },
    {
      "cell_type": "code",
      "source": [
        "# Para que as entras sejam inseridas pelo usuários vamos usar \"while true\" onde serão exibidas sem limite determinado de entradas\n",
        "# Caso seja inserido valor negativo -1, o programa irá encerrar por conta do \"break\", caso não, continua inserindo número à lista por conta do \"append\"\n",
        "\n",
        "notas = []\n",
        "\n",
        "while True:\n",
        "  entrada = input('Digite um número: ')\n",
        "  if entrada == '-1':\n",
        "    break\n",
        "  notas.append(float(entrada))\n",
        "\n",
        "tamanho = len(notas)\n",
        "print(f'Foram lidas {tamanho} notas')\n",
        "print(' '.join([str(nota) for nota in notas]))\n",
        "notas.reverse()\n",
        "\n",
        "# ----\n",
        "for nota in notas:\n",
        "  print(nota)\n",
        "\n",
        "# ---\n",
        "soma = sum(notas)\n",
        "print(f'Soma das notas é: {soma}')\n",
        "\n",
        "# ---\n",
        "media = soma / tamanho\n",
        "print(f'A média das notas é: {media}')\n",
        "\n",
        "# ---\n",
        "print(' '.join([str(nota) for nota in notas if nota > media]))\n",
        "\n",
        "# ---\n",
        "print('Notas abaixo de 7: ')\n",
        "print(' '.join([str(nota) for nota in notas if nota < 7]))\n",
        "\n",
        "print('Encerrado o programa de estatística de notas')"
      ],
      "metadata": {
        "id": "wM__gL38ROxg",
        "colab": {
          "base_uri": "https://localhost:8080/"
        },
        "outputId": "4aa87c6e-49fb-4dd7-9c34-237ca9d9bc6c"
      },
      "execution_count": 18,
      "outputs": [
        {
          "output_type": "stream",
          "name": "stdout",
          "text": [
            "Digite um número: 5\n",
            "Digite um número: 2\n",
            "Digite um número: 3\n",
            "Digite um número: 4\n",
            "Digite um número: 5\n",
            "Digite um número: 7\n",
            "Digite um número: 10\n",
            "Digite um número: -0\n",
            "Digite um número: 0\n",
            "Digite um número: -1\n",
            "Foram lidas 9 notas\n",
            "5.0 2.0 3.0 4.0 5.0 7.0 10.0 -0.0 0.0\n",
            "0.0\n",
            "-0.0\n",
            "10.0\n",
            "7.0\n",
            "5.0\n",
            "4.0\n",
            "3.0\n",
            "2.0\n",
            "5.0\n",
            "Soma das notas é: 36.0\n",
            "A média das notas é: 4.0\n",
            "10.0 7.0 5.0 5.0\n",
            "Notas abaixo de 7: \n",
            "0.0 -0.0 5.0 4.0 3.0 2.0 5.0\n",
            "Encerrado o programa de estatística de notas\n"
          ]
        }
      ]
    }
  ]
}