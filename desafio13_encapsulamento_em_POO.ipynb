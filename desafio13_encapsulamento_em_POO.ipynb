{
  "nbformat": 4,
  "nbformat_minor": 0,
  "metadata": {
    "colab": {
      "provenance": [],
      "authorship_tag": "ABX9TyPrJyAvOT849Y8QMkk/eAJN",
      "include_colab_link": true
    },
    "kernelspec": {
      "name": "python3",
      "display_name": "Python 3"
    },
    "language_info": {
      "name": "python"
    }
  },
  "cells": [
    {
      "cell_type": "markdown",
      "metadata": {
        "id": "view-in-github",
        "colab_type": "text"
      },
      "source": [
        "<a href=\"https://colab.research.google.com/github/DataDaniels/python_desafio_devpro/blob/main/desafio13_encapsulamento_em_POO.ipynb\" target=\"_parent\"><img src=\"https://colab.research.google.com/assets/colab-badge.svg\" alt=\"Open In Colab\"/></a>"
      ]
    },
    {
      "cell_type": "markdown",
      "source": [
        "## CLASSE PESSOA"
      ],
      "metadata": {
        "id": "seYmPDLfZUJq"
      }
    },
    {
      "cell_type": "markdown",
      "source": [
        "O programa tem como objetivo a criação e modelagem de uma pessoa. A importância dessa aula é dentro do conceito de orientação a objeto, o encapsulamento.\n",
        "\n",
        "A pessoa em questão deverá cresce 0,5cm por ano até os 21 anos. Depois disso não poderá mais crescer."
      ],
      "metadata": {
        "id": "1HKPNSoEZYCk"
      }
    },
    {
      "cell_type": "markdown",
      "source": [],
      "metadata": {
        "id": "0ahtRYKtcymB"
      }
    },
    {
      "cell_type": "code",
      "execution_count": 4,
      "metadata": {
        "colab": {
          "base_uri": "https://localhost:8080/"
        },
        "id": "0LzOKA6PZFSo",
        "outputId": "7cc19e81-9e60-4486-9779-4253d197bd79"
      },
      "outputs": [
        {
          "output_type": "stream",
          "name": "stdout",
          "text": [
            "Idade de Otavio é: 3 anos. E sua altura é 80.5 cm.\n",
            "Idade de Otavio é: 4 anos. E sua altura é 81.0 cm.\n",
            "Idade de Otavio é: 5 anos. E sua altura é 81.5 cm.\n",
            "Idade de Otavio é: 6 anos. E sua altura é 82.0 cm.\n",
            "Idade de Otavio é: 7 anos. E sua altura é 82.5 cm.\n",
            "Idade de Otavio é: 8 anos. E sua altura é 83.0 cm.\n",
            "Idade de Otavio é: 9 anos. E sua altura é 83.5 cm.\n",
            "Idade de Otavio é: 10 anos. E sua altura é 84.0 cm.\n",
            "Idade de Otavio é: 11 anos. E sua altura é 84.5 cm.\n",
            "Idade de Otavio é: 12 anos. E sua altura é 85.0 cm.\n",
            "Idade de Otavio é: 13 anos. E sua altura é 85.5 cm.\n",
            "Idade de Otavio é: 14 anos. E sua altura é 86.0 cm.\n",
            "Idade de Otavio é: 15 anos. E sua altura é 86.5 cm.\n",
            "Idade de Otavio é: 16 anos. E sua altura é 87.0 cm.\n",
            "Idade de Otavio é: 17 anos. E sua altura é 87.5 cm.\n",
            "Idade de Otavio é: 18 anos. E sua altura é 88.0 cm.\n",
            "Idade de Otavio é: 19 anos. E sua altura é 88.5 cm.\n",
            "Idade de Otavio é: 20 anos. E sua altura é 89.0 cm.\n",
            "Idade de Otavio é: 21 anos. E sua altura é 89.5 cm.\n",
            "Idade de Otavio é: 22 anos. E sua altura é 89.5 cm.\n",
            "Idade de Otavio é: 23 anos. E sua altura é 89.5 cm.\n",
            "Idade de Otavio é: 24 anos. E sua altura é 89.5 cm.\n"
          ]
        }
      ],
      "source": [
        "# Para criar a classe deve-se adicionar \"class\" e adicionar o nome sempre no formato CamelCase\n",
        "class Pessoa:\n",
        "# Para criar os atributos de dados se usa sempre \"def\" \"__init__\" (dunder init), \"self\" e os demais atributos\n",
        "  def __init__(self, nome, idade, peso, altura):\n",
        "# Depois disso basta escrever self.nomedoatributo = nome dado como parâmetro no inicio do método de criação\n",
        "    self.nome = nome\n",
        "    self.idade = idade\n",
        "    self.peso = peso\n",
        "    self.altura = altura\n",
        "\n",
        "# Para que o Otávio envelheça, é necessário criar o método envelhecer\n",
        "# Aqui propriamente se apresenta o conceito de encapsulamento: é possível tratar o estado objeto, ou seja, os seus valores dentro dos métodos de forma correta\n",
        "# Isso permite que não fique criando funções fora da classe, a classe toma conta das operações e não deixa que sejam inseridos valores inválidos pois respeita os métodos\n",
        "  def envelhecer(self):\n",
        "# Se a idade da pessoa for menor que 21 anos então somar à altura 0.5cm\n",
        "    if self.idade < 21:\n",
        "      self.altura += 0.5\n",
        "# Além disso, sempre que envelhecer, incrementar 1 ano na idade da pessoa.\n",
        "    self.idade += 1\n",
        "\n",
        "# Criação do objeto com o nome do objeto = nome da classe e na sequência a passagem dos parâmetros.\n",
        "otavio = Pessoa('Otavio', 2, 12, 80)\n",
        "\n",
        "# Aqui fazemos a iteração para que cálcule até os 21 anos do Otávio\n",
        "# Para \"for\" um valor que não vou utilizar \"_\" no \"range\" indo até \"22\"\n",
        "for _ in range(22):\n",
        "# Otávio deve envelhecer (utilizando o método envelhecer)\n",
        "  otavio.envelhecer()\n",
        "# Exibir os dentro da f-string a sentença estabelecida trabalhando o \"método envelhecer\" e iterando com o \"for\"\n",
        "  print(f'Idade de {otavio.nome} é: {otavio.idade} anos. E sua altura é {otavio.altura} cm.')"
      ]
    }
  ]
}