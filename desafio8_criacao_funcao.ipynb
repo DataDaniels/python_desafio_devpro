{
  "nbformat": 4,
  "nbformat_minor": 0,
  "metadata": {
    "colab": {
      "provenance": [],
      "authorship_tag": "ABX9TyN11iRLZP/nxj8cT78Hg/Vf",
      "include_colab_link": true
    },
    "kernelspec": {
      "name": "python3",
      "display_name": "Python 3"
    },
    "language_info": {
      "name": "python"
    }
  },
  "cells": [
    {
      "cell_type": "markdown",
      "metadata": {
        "id": "view-in-github",
        "colab_type": "text"
      },
      "source": [
        "<a href=\"https://colab.research.google.com/github/DataDaniels/python_desafio_devpro/blob/main/desafio8_criacao_funcao.ipynb\" target=\"_parent\"><img src=\"https://colab.research.google.com/assets/colab-badge.svg\" alt=\"Open In Colab\"/></a>"
      ]
    },
    {
      "cell_type": "markdown",
      "source": [
        "# CRIAÇÃO DE FUNÇÃO: DEF"
      ],
      "metadata": {
        "id": "sCOEfA8qa0Vo"
      }
    },
    {
      "cell_type": "markdown",
      "source": [
        "O objetivo do programa é: para um \"n\" informado pelo usuário. Use uma função que receba um valor \"n\" inteiro e imprima até a n-ésima linha."
      ],
      "metadata": {
        "id": "-5wJXf1GlQNL"
      }
    },
    {
      "cell_type": "code",
      "execution_count": 13,
      "metadata": {
        "colab": {
          "base_uri": "https://localhost:8080/"
        },
        "id": "bzVO4qVIWRj2",
        "outputId": "ac7158c2-66f7-4461-a79b-ec93ae01247d"
      },
      "outputs": [
        {
          "output_type": "stream",
          "name": "stdout",
          "text": [
            "Triangulo com 1\n",
            "1   \n",
            "Triangulo com 2\n",
            "1   \n",
            "2   2   \n",
            "Triangulo com 3\n",
            "1   \n",
            "2   2   \n",
            "3   3   3   \n"
          ]
        }
      ],
      "source": [
        "# Na primeira linha temos a definição da função usando \"def\" e tendo como parâmetro \"n\" e inteiro\n",
        "def imprimir_triangulo_de_numeros(n: int):\n",
        "# O primeiro \"for\" determina que haverá uma sequência de números por linha e será somado 1 sobre o \"n\"\n",
        "  for i in range(1, n + 1):\n",
        "# O segundo \"for\" identado informa que \"i\" será exibido sequencialmene conforme informado na função ao final, criando um intervalo para cada.\n",
        "    for _ in range (i):\n",
        "# Os prints abaixo determinam as regras de espaço e de saltar uma linha.\n",
        "      print(i, end= '   ')\n",
        "    print('')\n",
        "\n",
        "# Os prints das \"strings\" e a execução das funções finalizam o código.\n",
        "print('Triangulo com 1')\n",
        "imprimir_triangulo_de_numeros(1)\n",
        "print('Triangulo com 2')\n",
        "imprimir_triangulo_de_numeros(2)\n",
        "print('Triangulo com 3')\n",
        "imprimir_triangulo_de_numeros(3)\n"
      ]
    }
  ]
}