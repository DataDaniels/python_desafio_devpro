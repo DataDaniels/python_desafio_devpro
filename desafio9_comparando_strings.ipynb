{
  "nbformat": 4,
  "nbformat_minor": 0,
  "metadata": {
    "colab": {
      "provenance": [],
      "authorship_tag": "ABX9TyPgtLw0NGFOMpHnBxft6aCK",
      "include_colab_link": true
    },
    "kernelspec": {
      "name": "python3",
      "display_name": "Python 3"
    },
    "language_info": {
      "name": "python"
    }
  },
  "cells": [
    {
      "cell_type": "markdown",
      "metadata": {
        "id": "view-in-github",
        "colab_type": "text"
      },
      "source": [
        "<a href=\"https://colab.research.google.com/github/DataDaniels/python_desafio_devpro/blob/main/desafio9_comparando_strings.ipynb\" target=\"_parent\"><img src=\"https://colab.research.google.com/assets/colab-badge.svg\" alt=\"Open In Colab\"/></a>"
      ]
    },
    {
      "cell_type": "markdown",
      "source": [
        "## COMPARANDO TAMANHO E CONTEÚDO DAS STRINGS"
      ],
      "metadata": {
        "id": "PQsxtBZ0WSLk"
      }
    },
    {
      "cell_type": "markdown",
      "source": [
        "O objetivo deste programa é realizar uma comparação de tamanho e conteúdo dos elementos contidos nas strings informadas pelo usuário"
      ],
      "metadata": {
        "id": "h53OvD3lauwq"
      }
    },
    {
      "cell_type": "code",
      "execution_count": 12,
      "metadata": {
        "colab": {
          "base_uri": "https://localhost:8080/"
        },
        "id": "YrXjp_WyWHPB",
        "outputId": "bfde53e5-5365-41e5-bee3-82a1d094fd9e"
      },
      "outputs": [
        {
          "output_type": "stream",
          "name": "stdout",
          "text": [
            "Digite uma string: daniel\n",
            "Digite outra string: Daniel\n",
            "\"daniel\": 6 caracteres\n",
            "\"Daniel\": 6 caracteres\n",
            "As duas strings são de tamanhos iguais.\n",
            "As duas strings possuem conteudo diferente.\n"
          ]
        }
      ],
      "source": [
        "# Abaixo temos o input das duas vaviáveis\n",
        "s1 = input('Digite uma string: ')\n",
        "s2 = input('Digite outra string: ')\n",
        "\n",
        "# usando a função \"len\" temos a contagem dos elementos das variáves s1 e s2, nossas strings\n",
        "tamanho1 = len(s1)\n",
        "tamanho2 = len(s2)\n",
        "\n",
        "# nos \"prints\" abaixo, utilizando-se de \"f\" strings são exibidas as saídas das strings e o tamanho\n",
        "print(f'\"{s1}\": {tamanho1} caracteres')\n",
        "print(f'\"{s2}\": {tamanho2} caracteres')\n",
        "\n",
        "# as variáveis abaixo vão possibilitar uma validação condicional do tamanho e do conteúdo\n",
        "comparacao_de_tamanho = 'diferentes'\n",
        "comparacao_de_conteudo = 'diferente'\n",
        "\n",
        "# se s1 e s2 forem idênticos então obviamente tanto o tamanho quanto o conteudo serão 'iguais', 'igual'\n",
        "if s1 == s2:\n",
        "  comparacao_de_tamanho = 'iguais'\n",
        "  comparacao_de_conteudo = 'igual'\n",
        "# senão, se tamanho1 e tamanho2 forem iguais comparacao_de_tamanho = 'iguais'\n",
        "# esta já pressupõe que a saida 'diferente' para conteudo será aplicada\n",
        "elif tamanho1 == tamanho2:\n",
        "  comparacao_de_tamanho = 'iguais'\n",
        "\n",
        "print(f'As duas strings são de tamanhos {comparacao_de_tamanho}.')\n",
        "print(f'As duas strings possuem conteudo {comparacao_de_conteudo}.')"
      ]
    },
    {
      "cell_type": "code",
      "source": [],
      "metadata": {
        "id": "O2b5b0fJXESE"
      },
      "execution_count": null,
      "outputs": []
    }
  ]
}