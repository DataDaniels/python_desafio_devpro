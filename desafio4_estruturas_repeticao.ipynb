{
  "nbformat": 4,
  "nbformat_minor": 0,
  "metadata": {
    "colab": {
      "provenance": [],
      "authorship_tag": "ABX9TyM9/gQ0t7ASSBLLPF+9fANF",
      "include_colab_link": true
    },
    "kernelspec": {
      "name": "python3",
      "display_name": "Python 3"
    },
    "language_info": {
      "name": "python"
    }
  },
  "cells": [
    {
      "cell_type": "markdown",
      "metadata": {
        "id": "view-in-github",
        "colab_type": "text"
      },
      "source": [
        "<a href=\"https://colab.research.google.com/github/DataDaniels/python_desafio_devpro/blob/main/desafio4_estruturas_repeticao.ipynb\" target=\"_parent\"><img src=\"https://colab.research.google.com/assets/colab-badge.svg\" alt=\"Open In Colab\"/></a>"
      ]
    },
    {
      "cell_type": "markdown",
      "source": [
        "# Estruturas de Repetição"
      ],
      "metadata": {
        "id": "Ctb3cgcodsC_"
      }
    },
    {
      "cell_type": "markdown",
      "source": [
        "A proposta deste programa é fazer com que o usuário insira um número porém se ele digitar um valor inválido, uma mensagem de erro informará que o usuário deverá digitar um valor correto e não cessará de ser exibida até que o mesmo o faça."
      ],
      "metadata": {
        "id": "4s0AQP5weRCY"
      }
    },
    {
      "cell_type": "markdown",
      "source": [
        "Abaixo está o código em 2 células: na primeira o código e na segunda o código comentado para auxiliar no aprendizado e facilitar a leitura com interpretação"
      ],
      "metadata": {
        "id": "XgHJh38Q1eJO"
      }
    },
    {
      "cell_type": "code",
      "source": [
        "while True:\n",
        "  try:\n",
        "    numero = int(input())\n",
        "  except ValueError:\n",
        "    print('Deve ser fornecido um valor inteiro')\n",
        "  else:\n",
        "    if 0<= numero<=10:\n",
        "      print(f'Número informado é {numero}')\n",
        "      break\n",
        "    else:\n",
        "      print('O número deve estar entre 0 e 10')"
      ],
      "metadata": {
        "colab": {
          "base_uri": "https://localhost:8080/"
        },
        "id": "_cSNS1Smzh9W",
        "outputId": "4aea3752-20ca-4749-dc94-054533e34a63"
      },
      "execution_count": 17,
      "outputs": [
        {
          "output_type": "stream",
          "name": "stdout",
          "text": [
            "sdf\n",
            "Deve ser fornecido um valor inteiro\n",
            "-1\n",
            "O número deve estar entre 0 e 10\n",
            "24\n",
            "O número deve estar entre 0 e 10\n",
            "2\n",
            "Número informado é 2\n"
          ]
        }
      ]
    },
    {
      "cell_type": "code",
      "source": [
        "# A função whale vai permitir que o código se repita até que a condição seja atendida\n",
        "while True:\n",
        "# Se o usuário inserir valores como string (texto) por exemplo, o python imformará um erro pois, este programa deverá aceitar somente int (numeros inteiros)\n",
        "# A função try tentará transformar o numero inserido em int\n",
        "  try:\n",
        "    numero = int(input())\n",
        "# Se não conseguir transformar em int, a função except junto com o tipo de erro que neste caso é ValueError, imprime mensagem de erro personalizada\n",
        "  except ValueError:\n",
        "    print('Deve ser fornecido um valor inteiro')\n",
        "# O primeiro else serve colocar uma condição em que se a variável numero for de 0 a 10 deve exibir a mensagem de string informada e o número fornecido\n",
        "  else:\n",
        "    if 0<= numero<=10:\n",
        "      print(f'Número informado é {numero}')\n",
        "# A função break serve simplesmente para de rodar o código caso a condição acima tenha sido\n",
        "      break\n",
        "# Caso o usuário tenha inserido um número negativo (ou seja, menor que zero) ou maior que zero, a mensagem abaixo será exibida e prevalecerá o while true sobre o break\n",
        "    else:\n",
        "      print('O número deve estar entre 0 e 10')\n",
        "# Sendo assim o código continuará a ser exibido até que seja inserido um numero inteiro entre 0 e 10"
      ],
      "metadata": {
        "colab": {
          "base_uri": "https://localhost:8080/"
        },
        "id": "yxuo9NC4fm-8",
        "outputId": "3be6816a-f1da-4611-cb7f-1f2d4c154fa3"
      },
      "execution_count": 15,
      "outputs": [
        {
          "output_type": "stream",
          "name": "stdout",
          "text": [
            "daniel\n",
            "Deve ser fornecido um valor inteiro\n",
            "15\n",
            "O número deve estar entre 0 e 10\n",
            "5\n",
            "Número informado é 5\n"
          ]
        }
      ]
    }
  ]
}