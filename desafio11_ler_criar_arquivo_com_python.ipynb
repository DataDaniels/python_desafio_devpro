{
  "nbformat": 4,
  "nbformat_minor": 0,
  "metadata": {
    "colab": {
      "provenance": [],
      "authorship_tag": "ABX9TyP+2gLH+qE6x9BRXXm1Euo2",
      "include_colab_link": true
    },
    "kernelspec": {
      "name": "python3",
      "display_name": "Python 3"
    },
    "language_info": {
      "name": "python"
    }
  },
  "cells": [
    {
      "cell_type": "markdown",
      "metadata": {
        "id": "view-in-github",
        "colab_type": "text"
      },
      "source": [
        "<a href=\"https://colab.research.google.com/github/DataDaniels/python_desafio_devpro/blob/main/desafio11_ler_criar_arquivo_com_python.ipynb\" target=\"_parent\"><img src=\"https://colab.research.google.com/assets/colab-badge.svg\" alt=\"Open In Colab\"/></a>"
      ]
    },
    {
      "cell_type": "markdown",
      "source": [
        "## LER E CRIAR ARQUIVO COM PTYHON"
      ],
      "metadata": {
        "id": "7oOY2cXs73xc"
      }
    },
    {
      "cell_type": "code",
      "source": [
        "# Nesta célula temos importamos a biblioteca drive\n",
        "from google.colab import drive\n",
        "drive.mount('/content/drive')"
      ],
      "metadata": {
        "id": "-LQWjon5_YNM"
      },
      "execution_count": null,
      "outputs": []
    },
    {
      "cell_type": "markdown",
      "source": [
        "O programa irá fazer uma validação de IPs verdadeiros, esses são os que tem uma sequência de números até 255."
      ],
      "metadata": {
        "id": "PIqw427X9Oh5"
      }
    },
    {
      "cell_type": "code",
      "source": [
        "# Abaixo temos a função \"validar\" onde validará a partir de valor boleano (True ou False), sendo: \"split\" que dividide strings a parti de um valor especifico passado em parâmetro, no caso o ponto ('.')\n",
        "def validar(ip:str) -> bool:\n",
        "  numeros = ip.split('.')\n",
        "# Se o ip passado tiver menos de 4 blocos divididos por pontos, conforme passamos para a função \"split\" é um False\n",
        "  if len(numeros) != 4:\n",
        "    return False\n",
        "# Se os números informados a cada bloco entre os pontos \"not\", \"não\" for menor ou igual a 255 é False, caso contrário True\n",
        "  for n in numeros:\n",
        "    if not (0 <= int(n) <= 255):\n",
        "      return False\n",
        "  return True\n",
        "\n",
        "# Aqui são mencoinadas as variáveis \"ips_validos\" e \"ips_invalidos\" que serão usadas para apartar os ips validos dos invalidos\n",
        "ips_validos = []\n",
        "ips_invalidos = []\n",
        "\n",
        "# Na primeira linha é usado o \"with\" que quer dizer \"com\" e \"open\" para abrir o arquivo.\n",
        "# O \"r\" é passado como parâmetro pois é a forma que iremos iteragir com o documento, r de \"read\" em português \"ler\". Será tratado como variável \"arquivo\"\n",
        "with open('sample_data/ips.txt', 'r') as arquivo:\n",
        "# Será lido \"linha\" por linha do arquivo, ou seja, do documento ips. No print adiciona-se linha.strip() para que não se pule linhas.\n",
        "  for linha in arquivo:\n",
        "    ip = linha.strip()\n",
        "# Nas duas próximas sentenças, \"if\" e \"else\" se adicion à variável ips_validos os ips considerados válidos e à variável ips_inválidos os inválidos através da função \"append\"\n",
        "    if validar(ip):\n",
        "      ips_validos.append(ip)\n",
        "    else:\n",
        "      ips_invalidos.append(ip)\n",
        "\n",
        "# Abaixo alteramos a forma de leitura do arquivo de \"r\" que serve para ler para \"w\" de ler do inglês \"write\". Se nomeia o novo arquivo e se utiliza a função \"writelines\" para screver em cada linha\n",
        "with open('sample_data/ips_saidas.txt', 'w') as arquivo:\n",
        "\n",
        "# Arquivo a sentaça para escrever no arquivo \"arquivo.writelines\" os ips válidos através do loop \"for\" ip in ips_validos e dessa forma  imprimir logo abaixo do texto \"Endereços válidos\"\n",
        "  arquivo.writelines('[Endereços válidos:]\\n')\n",
        "\n",
        "  for ip in ips_validos:\n",
        "    arquivo.writelines(f'{ip}\\n')\n",
        "\n",
        "# Pula-se duas linhas através do \"arquivo.writelines('\\n')\" e abaixo se faz a mesma lógico do ips_validos porém ao contrário, pois trata-se de ips_invlados dessa vez.\n",
        "  arquivo.writelines('\\n')\n",
        "  arquivo.writelines('\\n')\n",
        "  arquivo.writelines('[Endereços inválidos:]\\n')\n",
        "\n",
        "  for ip in ips_invalidos:\n",
        "    arquivo.writelines(f'{ip}\\n')\n",
        "\n"
      ],
      "metadata": {
        "id": "zOtIxt_Y9uQq"
      },
      "execution_count": null,
      "outputs": []
    },
    {
      "cell_type": "code",
      "execution_count": null,
      "metadata": {
        "id": "xg4C1zbR7IKd"
      },
      "outputs": [],
      "source": []
    }
  ]
}