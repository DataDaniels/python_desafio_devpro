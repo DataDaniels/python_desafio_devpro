{
  "nbformat": 4,
  "nbformat_minor": 0,
  "metadata": {
    "colab": {
      "provenance": [],
      "authorship_tag": "ABX9TyMSNXybWLotwp3OIlCcjWRu",
      "include_colab_link": true
    },
    "kernelspec": {
      "name": "python3",
      "display_name": "Python 3"
    },
    "language_info": {
      "name": "python"
    }
  },
  "cells": [
    {
      "cell_type": "markdown",
      "metadata": {
        "id": "view-in-github",
        "colab_type": "text"
      },
      "source": [
        "<a href=\"https://colab.research.google.com/github/DataDaniels/python_desafio_devpro/blob/main/desafio6_adicionando_valores_listas.ipynb\" target=\"_parent\"><img src=\"https://colab.research.google.com/assets/colab-badge.svg\" alt=\"Open In Colab\"/></a>"
      ]
    },
    {
      "cell_type": "markdown",
      "source": [
        "## ADICIONANDO VALORES - LISTAS"
      ],
      "metadata": {
        "id": "1u422NCgdfWF"
      }
    },
    {
      "cell_type": "markdown",
      "source": [
        "Este programa mostrará como se inserem valores dentro de listas.\n",
        "\n",
        "Para abrir uma lista basta abrir [ ] colchetes. Dentro de um vetor pode-se adicionar diversos tipos de elementos, caracteres como int ou string... é possivel também adicionar uma lista dentro de outra lista.\n",
        "\n",
        "Abaixo na linha 2 do código, utiliza-se a função \"lista.append\" com o valor que se deseja inserir na lista entre (). O print serve para exibir o resultado da operação."
      ],
      "metadata": {
        "id": "4LnmL0S6e1wf"
      }
    },
    {
      "cell_type": "code",
      "source": [
        "lista = [1, 2, 'Renzo', []]\n",
        "lista.append(10)\n",
        "print(lista)"
      ],
      "metadata": {
        "colab": {
          "base_uri": "https://localhost:8080/"
        },
        "id": "Goof19x5fblg",
        "outputId": "6249fd3c-ba20-466e-b3b6-72d71d5670b2"
      },
      "execution_count": 7,
      "outputs": [
        {
          "output_type": "stream",
          "name": "stdout",
          "text": [
            "[1, 2, 'Renzo', [], 10]\n"
          ]
        }
      ]
    },
    {
      "cell_type": "markdown",
      "source": [
        "Nesta segunda célula temos o programa rodando de uma forma em se determina o nome do objeto \"lista\" com [ ] colchetes abertos pois os elementos (valores) da lista serão inseridos pelo usuário.\n",
        "\n",
        "A função \"for _ in range(quantidade de elementos)\" determina a quantidade de elementos (valores) que serão inseridos pelo usuário.\n",
        "\n",
        "De forma identada é criada a variável \"numero\" que junto da função \"float\" + \"input\" possibilitará que o usuário insira os elementos com tipo de caractere de ponto flutuante ou seja, número decimal que poderá ser um número inteiro, positivo e negativo.\n",
        "\n",
        "Também de forma identada é inserida a função \"lista.append()\" que fará com que os elementos informados pelo usuário sejam inseridos dentro da lista.\n",
        "\n",
        "Por fim para exibir o resultado da operação basta utilizar a função \"print\" com variável(objeto) lista."
      ],
      "metadata": {
        "id": "Iy4Fg5bwilmQ"
      }
    },
    {
      "cell_type": "code",
      "source": [
        "lista = []\n",
        "for _ in range(5):\n",
        "  numero = float(input('Digite um número: '))\n",
        "  lista.append(numero)\n",
        "print(lista)"
      ],
      "metadata": {
        "colab": {
          "base_uri": "https://localhost:8080/"
        },
        "id": "nHoazLL1hiNr",
        "outputId": "6b60fcbd-72f3-4c7a-ac9b-fd67e1b671ac"
      },
      "execution_count": 6,
      "outputs": [
        {
          "output_type": "stream",
          "name": "stdout",
          "text": [
            "Digite um número: 1\n",
            "Digite um número: 4\n",
            "Digite um número: 0.7\n",
            "Digite um número: -10\n",
            "Digite um número: -50\n",
            "[1.0, 4.0, 0.7, -10.0, -50.0]\n"
          ]
        }
      ]
    }
  ]
}