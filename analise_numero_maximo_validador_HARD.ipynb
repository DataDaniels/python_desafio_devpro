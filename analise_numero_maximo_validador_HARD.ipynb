{
  "nbformat": 4,
  "nbformat_minor": 0,
  "metadata": {
    "colab": {
      "provenance": [],
      "authorship_tag": "ABX9TyOdTRZRXYjGKmv6Nsir+2sx",
      "include_colab_link": true
    },
    "kernelspec": {
      "name": "python3",
      "display_name": "Python 3"
    },
    "language_info": {
      "name": "python"
    }
  },
  "cells": [
    {
      "cell_type": "markdown",
      "metadata": {
        "id": "view-in-github",
        "colab_type": "text"
      },
      "source": [
        "<a href=\"https://colab.research.google.com/github/DataDaniels/python_desafio_devpro/blob/main/analise_numero_maximo_validador_HARD.ipynb\" target=\"_parent\"><img src=\"https://colab.research.google.com/assets/colab-badge.svg\" alt=\"Open In Colab\"/></a>"
      ]
    },
    {
      "cell_type": "markdown",
      "source": [
        "# MAIOR VALOR EXIBIDO - COM VALIDADOR DE VALORES INVÁLIDOS E ESTRUTURA DE DECISÃO PARA INTERAÇÃO DO USUÁRIO"
      ],
      "metadata": {
        "id": "Yco-HJ2DPH-K"
      }
    },
    {
      "cell_type": "code",
      "execution_count": null,
      "metadata": {
        "colab": {
          "base_uri": "https://localhost:8080/"
        },
        "id": "g30JRoGbJyPU",
        "outputId": "74503a89-fa8a-430a-90ce-a073166a6924"
      },
      "outputs": [
        {
          "output_type": "stream",
          "name": "stdout",
          "text": [
            "Digite o número máximo de tentativas: 2\n",
            "Digite um número: 12\n",
            "Digite um número: qw\n",
            "Deve ser fornecido um número inteiro ou decimal\n",
            "Número máximo encontrado até agora é 12.0. Deseja finalizar o programa? (sim/não): não\n",
            "Reiniciando o programa...\n",
            "Digite o novo número máximo de tentativas: 3\n",
            "Digite um número: 13\n",
            "Digite um número: 14\n",
            "Digite um número: 19\n",
            "Número máximo encontrado até agora é 19.0. Deseja finalizar o programa? (sim/não): sim\n",
            "Número máximo inserido foi 19.0\n"
          ]
        }
      ],
      "source": [
        "while True:\n",
        "    try:\n",
        "        maximo_tentativas = int(input('Digite o número máximo de tentativas: '))\n",
        "        break\n",
        "    except ValueError:\n",
        "        print('Número inválido. Digite um valor inteiro válido.')\n",
        "\n",
        "while True:\n",
        "    contagem_tentativas = 0\n",
        "    numero_maximo = None\n",
        "\n",
        "    while contagem_tentativas < maximo_tentativas:\n",
        "        try:\n",
        "            numero_inserido = float(input('Digite um número: '))\n",
        "            if numero_maximo is None or numero_inserido > numero_maximo:\n",
        "                numero_maximo = numero_inserido\n",
        "        except ValueError:\n",
        "            print('Deve ser fornecido um número inteiro ou decimal')\n",
        "        contagem_tentativas += 1\n",
        "\n",
        "    # Verifica se atingiu o limite de tentativas\n",
        "    if contagem_tentativas >= maximo_tentativas:\n",
        "        if numero_maximo is not None:\n",
        "            resposta = input(f'Número máximo encontrado até agora é {numero_maximo}. Deseja finalizar o programa? (sim/não): ')\n",
        "        else:\n",
        "            resposta = input('Não foi possível realizar a análise pois nenhum valor máximo foi informado. Deseja finalizar o programa? (sim/não): ')\n",
        "        if resposta.lower() == 'sim':\n",
        "            if numero_maximo is not None:\n",
        "                print(f'Número máximo inserido foi {numero_maximo}')\n",
        "            else:\n",
        "                print(f'Número máximo não foi inserido. Encerrando o programa.')\n",
        "            break\n",
        "        else:\n",
        "            print('Reiniciando o programa...')\n",
        "            while True:\n",
        "                try:\n",
        "                    maximo_tentativas = int(input('Digite o novo número máximo de tentativas: '))\n",
        "                    break\n",
        "                except ValueError:\n",
        "                    print('Número inválido. Digite um valor inteiro válido.')\n",
        "    else:\n",
        "        print(f'Nenhum valor válido foi inserido para a análise. Reiniciando o programa...')\n"
      ]
    }
  ]
}