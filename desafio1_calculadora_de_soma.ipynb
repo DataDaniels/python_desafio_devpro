{
  "nbformat": 4,
  "nbformat_minor": 0,
  "metadata": {
    "colab": {
      "provenance": [],
      "authorship_tag": "ABX9TyNo1OocoDr0R0x9GSwURkvS",
      "include_colab_link": true
    },
    "kernelspec": {
      "name": "python3",
      "display_name": "Python 3"
    },
    "language_info": {
      "name": "python"
    }
  },
  "cells": [
    {
      "cell_type": "markdown",
      "metadata": {
        "id": "view-in-github",
        "colab_type": "text"
      },
      "source": [
        "<a href=\"https://colab.research.google.com/github/DataDaniels/python_desafio_devpro/blob/main/desafio1_calculadora_de_soma.ipynb\" target=\"_parent\"><img src=\"https://colab.research.google.com/assets/colab-badge.svg\" alt=\"Open In Colab\"/></a>"
      ]
    },
    {
      "cell_type": "markdown",
      "source": [
        "# CALCULADORA DE SOMA"
      ],
      "metadata": {
        "id": "xAtV-4EH71BL"
      }
    },
    {
      "cell_type": "markdown",
      "source": [
        "Neste programa irei criar uma cálculadora de soma simples e eficiente utilizando Python como linguagem de programação:"
      ],
      "metadata": {
        "id": "ja-k1D7l9ixa"
      }
    },
    {
      "cell_type": "markdown",
      "source": [
        "O programa permite realizar a soma de dois números inteiros. Para rodar o programa basta pressionar as teclas Ctrl e Enter, depois de inserir cada número deve-se pressionar Enter."
      ],
      "metadata": {
        "id": "4uorTAZN-hu4"
      }
    },
    {
      "cell_type": "code",
      "source": [
        "# Nas linhas 3 e 4 estão as duas variáveis, ou seja, os dois números inteiros utilizados para realizar a soma.\n",
        "# int: a função int é necessária para que o programa reconheça que os números inseridos são numerais e dessa forma seja possível realizar a soma.\n",
        "# input: a função input pressupõe que seja necessário inserir determinado dado logo após o texto (string ou str).\n",
        "numero_1 = int(input('Digite um número: '))\n",
        "numero_2 = int(input('Digite outro número: '))\n",
        "\n",
        "# Na linha 8 é onde ocorre a soma das duas variáveis inseridas anteriormente.\n",
        "soma = numero_1 + numero_2\n",
        "\n",
        "# Na linha 11, a função print juntamente com a função f (conhecida como f string) e a variável soma, permite que o resultado seja exibido logo após o texto inserido (string).\n",
        "print(f'A soma dos dois números à igual a {soma}')"
      ],
      "metadata": {
        "colab": {
          "base_uri": "https://localhost:8080/"
        },
        "id": "UOopFviR9xGN",
        "outputId": "b81221c2-e198-4713-948d-7b13e2c24e43"
      },
      "execution_count": null,
      "outputs": [
        {
          "output_type": "stream",
          "name": "stdout",
          "text": [
            "Digite um número: 1\n",
            "Digite outro número: 5\n",
            "A soma dos dois números à igual a 6\n"
          ]
        }
      ]
    }
  ]
}