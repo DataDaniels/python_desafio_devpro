{
  "nbformat": 4,
  "nbformat_minor": 0,
  "metadata": {
    "colab": {
      "provenance": [],
      "authorship_tag": "ABX9TyNHthonXqkFUVvq+ccseDXV",
      "include_colab_link": true
    },
    "kernelspec": {
      "name": "python3",
      "display_name": "Python 3"
    },
    "language_info": {
      "name": "python"
    }
  },
  "cells": [
    {
      "cell_type": "markdown",
      "metadata": {
        "id": "view-in-github",
        "colab_type": "text"
      },
      "source": [
        "<a href=\"https://colab.research.google.com/github/DataDaniels/python_desafio_devpro/blob/main/desafio2_desvio_condicional.ipynb\" target=\"_parent\"><img src=\"https://colab.research.google.com/assets/colab-badge.svg\" alt=\"Open In Colab\"/></a>"
      ]
    },
    {
      "cell_type": "markdown",
      "source": [
        "# Estrutura de decisão - Desvio condicional"
      ],
      "metadata": {
        "id": "2Skw2oaY7aDy"
      }
    },
    {
      "cell_type": "markdown",
      "source": [
        "A proposta deste software é de fornecer ao usuário a informação necessária de acordo com o valor informado. A partir do valor inserido são realizadas validações onde de acordo com a codição é exebido o valor contido na regra do programa."
      ],
      "metadata": {
        "id": "2cuAzHyi7vLX"
      }
    },
    {
      "cell_type": "markdown",
      "source": [
        "A regra é a que segue: M para masculino, F para feminino, O para outras denominações e em caso de os valores inseridos serem inválidos, será exibida a mensagem \"Sexo não existe\"."
      ],
      "metadata": {
        "id": "_lF-BB9uKJVg"
      }
    },
    {
      "cell_type": "code",
      "source": [
        "# A lógica utilizada será a de expressões boleanas, é importante entender este conceito.\n",
        "# Basicamente os expressões boleanas são: verdadeiro (true) e falso (false)\n",
        "# Abaixo alguns exemplo de como podemos entender um pouco dessa regra aplicada em python:\n",
        "\n",
        "True, False\n",
        "print(5 < 6) # 5 é menor que 6 = verdadeiro (True)\n",
        "print(4 >= 7) # 4 é maior ou igual a 7 = falso (False)\n",
        "print(5 == 8) # 5 é igual a 8 = falso (False)\n",
        "print(2 != 5) # 2 é diferente de 5 = verdadeiro (True)\n",
        "\n",
        "# É importante lembrar que na linguagem python as letras maiúsculas e minúsculas são valores distintos, é possível usar as funções .lower() e .upper()  para converter.\n",
        "\n",
        "print('M' == 'A') # M maiúsculo é igual a A maiúsculo = falso (False)\n",
        "print('M' == 'M') # M maiúsculo é igual a M maiúsculo = verdadeiro (True)\n",
        "print('M' == 'm') # M maiúsculo é igual a m minúsculo = falso (False)\n",
        "print('Daniel'.lower()) # Daniel convertido em todas as letras minúsculas\n",
        "print('Daniel'.upper()) # Daniel convertido em todas as letras maiúsculas"
      ],
      "metadata": {
        "colab": {
          "base_uri": "https://localhost:8080/"
        },
        "id": "hKUat5T38Nq9",
        "outputId": "19b65682-d286-45f8-ad39-2f55647e5c20"
      },
      "execution_count": 7,
      "outputs": [
        {
          "output_type": "stream",
          "name": "stdout",
          "text": [
            "True\n",
            "False\n",
            "False\n",
            "True\n",
            "False\n",
            "True\n",
            "False\n",
            "daniel\n",
            "DANIEL\n"
          ]
        }
      ]
    },
    {
      "cell_type": "code",
      "source": [
        "# Na linha 2 na variável sexo se usa a função input para permitir que o usuário insira a opção desejada. No final a função .upper() para converter em letra maiúscula.\n",
        "sexo = input('Por favor informe o seu sexo, sendo: M para masculino, F para feminino, O para outras denominações: ').upper()\n",
        "# Na linha 3 se usa o IF como primeira condição, em caso positivo se exibe o resultado da linha 5\n",
        "if sexo == 'M':\n",
        "  print('Masculino')\n",
        "# Nas linhas 7 e 9 temos a função ELIF onde pode ser interprepatada como SENÃO forém atendudas as anteriores exiba o seguinte valor que neste caso é o da linha 8 ou 10\n",
        "elif sexo == 'F':\n",
        "  print('Feminino')\n",
        "elif sexo == 'O':\n",
        "  print('Outras denominações')\n",
        "# Na linha 12 é utilizada a função ELSE que deve ser interpretada como CASO NENHUMA CONDIÇÃO SEJA ATENDIDA informe então o seguinte, que neste caso é a linha 13.\n",
        "else:\n",
        "  print('Sexo não existe')\n",
        "\n",
        "print('Finalizou o programa')"
      ],
      "metadata": {
        "colab": {
          "base_uri": "https://localhost:8080/"
        },
        "id": "pRjYxRQ-CBcP",
        "outputId": "53fe4ff6-685f-4fc6-8e22-dcadc5a35e48"
      },
      "execution_count": 20,
      "outputs": [
        {
          "output_type": "stream",
          "name": "stdout",
          "text": [
            "Por favor informe o seu sexo, sendo: M para masculino, F para feminino, O para outras denominações: t\n",
            "Sexo não existe\n",
            "Finalizou o programa\n"
          ]
        }
      ]
    }
  ]
}