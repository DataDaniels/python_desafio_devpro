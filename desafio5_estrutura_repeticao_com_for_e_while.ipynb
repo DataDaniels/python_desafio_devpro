{
  "nbformat": 4,
  "nbformat_minor": 0,
  "metadata": {
    "colab": {
      "provenance": [],
      "authorship_tag": "ABX9TyMH8XbmOGyC5V2RnfvF0DvS",
      "include_colab_link": true
    },
    "kernelspec": {
      "name": "python3",
      "display_name": "Python 3"
    },
    "language_info": {
      "name": "python"
    }
  },
  "cells": [
    {
      "cell_type": "markdown",
      "metadata": {
        "id": "view-in-github",
        "colab_type": "text"
      },
      "source": [
        "<a href=\"https://colab.research.google.com/github/DataDaniels/python_desafio_devpro/blob/main/desafio5_estrutura_repeticao_com_for_e_while.ipynb\" target=\"_parent\"><img src=\"https://colab.research.google.com/assets/colab-badge.svg\" alt=\"Open In Colab\"/></a>"
      ]
    },
    {
      "cell_type": "markdown",
      "source": [
        "# MAIOR NÚMERO - ESTRUTURA DE REPETIÇÃO COM A FUNÇÃO \"FOR E WHILE\""
      ],
      "metadata": {
        "id": "wywCepBxC4Ww"
      }
    },
    {
      "cell_type": "markdown",
      "source": [
        "Serão apresentadas 3 opções de código para essa solução onde em especial a 3 foi alterada por mim para agregar valor ao código e à solulção em si:\n",
        "\n",
        "1.   Haverá um número mínimo e um número máximo. Números definidos dentro do código.\n",
        "2.   O usuário poderá inserir o número mínimo e o número máximo será exibido sempre com uma análise de comparação dentre todos os números inseridos até então. O limite de interações será determinado pelo parâmetro definido como range.\n",
        "3.   Neste programa o código já é mais sofisticado apresentando um validador para valores inválidos e em caso de inserção de todos os valores serem inválidos informa que não foi possível realizar a operação.\n",
        "\n",
        "É importante mencionar que dentro da função \"for\" o \"i\" que vem em seguida é iteração ou seja, de repetição\n"
      ],
      "metadata": {
        "id": "cx0ejuxCYHad"
      }
    },
    {
      "cell_type": "markdown",
      "source": [
        "# *Código 1*"
      ],
      "metadata": {
        "id": "jsU-2QTOZ8eZ"
      }
    },
    {
      "cell_type": "markdown",
      "source": [
        "Neste programa o codigo é executado de forma que é exibido o número mínimo na variavel \"maximo\" (inserindo o número na variável maximo da primeira lingua de código) e a quantidade de números a serem analisados dependerá do número que será inserido dentro dos parênteses da função \"for i in range()\".\n",
        "\n",
        "Identando a variável \"maximo\" logo abaixo da função \"for\" é possivel ver que é utilizada a função \"max\" e inseridos os parâmetros \"(maximo, i)\" que querem dizer que deverá ser exibido o número apresentado dentro da primeira função maximo (primeira linha do código) até o número máximo determinado.\n",
        "\n",
        "Qual é o número máximo? É o número anterior ao número inserido dentro dos parênteses após a função \"range():\" . Por exemplo, se o número for 10 inserido dentro dos parênteses, então o número máximo será 9.\n",
        "\n",
        "Se eu inserir um número mínimo 2 e um máximo 4, como será o comportamento? O código terá como saída por três vezes (ou seja, três linhas) o número 2 (que é o número mínimo determinado e é exibido por três vezes porque 2 é o número mínimo) e na última iteração será exibido o número 3 (só foi exibido na última iteração porque somente na última deve aparecer o número máximo)."
      ],
      "metadata": {
        "id": "wCDVawJ0Xa30"
      }
    },
    {
      "cell_type": "code",
      "source": [
        "# Exemplo com número mínimo 0 com range de 5 onde o número máximo portanto será 4. É exibido portanto o número de 0 a 4 conforme é possível ver abaixo:\n",
        "maximo = 0\n",
        "\n",
        "for i in range(5):\n",
        "  maximo = max(maximo, i)\n",
        "  print(f'Número máximo encontrado até agora é: {maximo}')"
      ],
      "metadata": {
        "colab": {
          "base_uri": "https://localhost:8080/"
        },
        "id": "Q3pbAO9RD86A",
        "outputId": "fa24abce-0b03-4fd4-9b1b-77a025ae88f7"
      },
      "execution_count": 1,
      "outputs": [
        {
          "output_type": "stream",
          "name": "stdout",
          "text": [
            "Número máximo encontrado até agora é: 0\n",
            "Número máximo encontrado até agora é: 1\n",
            "Número máximo encontrado até agora é: 2\n",
            "Número máximo encontrado até agora é: 3\n",
            "Número máximo encontrado até agora é: 4\n"
          ]
        }
      ]
    },
    {
      "cell_type": "code",
      "source": [
        "# Exemplo com número mínimo 0 com range de 4 onde o número máximo portanto será 3. É exibido portanto o número de 2 a 3 conforme é possível ver abaixo:\n",
        "maximo = 2\n",
        "\n",
        "for i in range(4):\n",
        "  maximo = max(maximo, i)\n",
        "  print(f'Número máximo encontrado até agora é: {maximo}')"
      ],
      "metadata": {
        "colab": {
          "base_uri": "https://localhost:8080/"
        },
        "id": "p-GL0xzrfSrp",
        "outputId": "b64f63fa-4702-4e88-c745-06744a10525b"
      },
      "execution_count": null,
      "outputs": [
        {
          "output_type": "stream",
          "name": "stdout",
          "text": [
            "Número máximo encontrado até agora é: 2\n",
            "Número máximo encontrado até agora é: 2\n",
            "Número máximo encontrado até agora é: 2\n",
            "Número máximo encontrado até agora é: 3\n"
          ]
        }
      ]
    },
    {
      "cell_type": "markdown",
      "source": [
        "# *Código 2*"
      ],
      "metadata": {
        "id": "-OVLiDAuf-_i"
      }
    },
    {
      "cell_type": "markdown",
      "source": [
        "Neste código o programa solicitará uma entrada para o usuário sendo esta o número máximo que deseja inserir (função \"input\" com f'string(+texto))'. Depois disso é possível analisar uma alteração no \"for\" onde no lugar o \"i\" que determinaria a quantidade de iterações com o indice que geraria os valores (\"in\") e range(), passa a ter somente um underline \"_\" onde por convenção se deve colocar informando e deve-se subentender que serão considerados os valores inseridos pelo usuário e não valores gerados automaticamente pelo indice.\n",
        "\n",
        "Ao rodar o código é possível analisar com clareza seu funcionamento, onde exibe ao final do código de acordo com a quandidade determinada no range, qual é o maior número informado."
      ],
      "metadata": {
        "id": "ifhgYc_1gAeF"
      }
    },
    {
      "cell_type": "code",
      "source": [
        "maximo2 = float(input('Digite um número: '))\n",
        "\n",
        "for _ in range(4):\n",
        "      maximo2 = max(maximo2, float(input('Digite um número: ')))\n",
        "      print(f'Número máximo encontrado até agora é {maximo2}')\n"
      ],
      "metadata": {
        "colab": {
          "base_uri": "https://localhost:8080/"
        },
        "id": "gZMaj_vqgGKc",
        "outputId": "984614fe-e2af-4111-e199-e26ee487f725"
      },
      "execution_count": 16,
      "outputs": [
        {
          "output_type": "stream",
          "name": "stdout",
          "text": [
            "Digite um número: 12\n",
            "Digite um número: 13\n",
            "Número máximo encontrado até agora é 13.0\n",
            "Digite um número: 14\n",
            "Número máximo encontrado até agora é 14.0\n",
            "Digite um número: 15\n",
            "Número máximo encontrado até agora é 15.0\n",
            "Digite um número: 16\n",
            "Número máximo encontrado até agora é 16.0\n"
          ]
        }
      ]
    },
    {
      "cell_type": "markdown",
      "source": [
        "# *Código 3*"
      ],
      "metadata": {
        "id": "Xboxqbhf00Z1"
      }
    },
    {
      "cell_type": "markdown",
      "source": [
        "Neste código já mais sofisticado é possível ver a função de repetição \"while\" onde através de condições e de um validador de erros analisa quando um valor inválido é inserido e exibe esta informação pulando para a próxima tentativa se inserção de valor. Ao final também informa o maior valor inserido no decorrer do programa com a mensagem \"Número máximo inserido foi \"numero_maximo\")\n",
        "\n",
        "Interessante notar que se nenhum valor válido for inserido, por exemplo, somente strings (textos) forem inseridos, o programa retorna com a mensagem \"Número máximo não foi inserido. Encerrando o programa.\""
      ],
      "metadata": {
        "id": "QXvGNlH6f3Qt"
      }
    },
    {
      "cell_type": "code",
      "source": [
        "maximo_tentativas = 3  # Número máximo de tentativas\n",
        "contagem_tentativas = 0  # Contador de tentativas\n",
        "numero_maximo = None  # Inicialização do número máximo\n",
        "\n",
        "while contagem_tentativas < maximo_tentativas:\n",
        "    try:\n",
        "        numero_inserido = float(input('Digite um número: '))\n",
        "        if numero_maximo is None or numero_inserido > numero_maximo:\n",
        "            numero_maximo = numero_inserido\n",
        "            print(f'Número máximo encontrado até agora é {numero_maximo}')\n",
        "    except ValueError:\n",
        "        print('Deve ser fornecido um número inteiro ou decimal')\n",
        "    contagem_tentativas += 1\n",
        "\n",
        "if numero_maximo is not None:\n",
        "    print(f'Número máximo inserido foi {numero_maximo}')\n",
        "else:\n",
        "    print(f'Número máximo não foi inserido. Encerrando o programa.')"
      ],
      "metadata": {
        "colab": {
          "base_uri": "https://localhost:8080/"
        },
        "id": "w9B6Wf2I047q",
        "outputId": "98266556-c8a6-4334-a0ac-704d4a172943"
      },
      "execution_count": 22,
      "outputs": [
        {
          "output_type": "stream",
          "name": "stdout",
          "text": [
            "Digite um número: 13\n",
            "Número máximo encontrado até agora é 13.0\n",
            "Digite um número: 15\n",
            "Número máximo encontrado até agora é 15.0\n",
            "Digite um número: qrt\n",
            "Deve ser fornecido um número inteiro ou decimal\n",
            "Número máximo inserido foi 15.0\n"
          ]
        }
      ]
    }
  ]
}