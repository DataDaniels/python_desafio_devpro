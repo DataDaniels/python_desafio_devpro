{
  "nbformat": 4,
  "nbformat_minor": 0,
  "metadata": {
    "colab": {
      "provenance": [],
      "authorship_tag": "ABX9TyPsaOaQyFo7MsQxmIQgnKU/",
      "include_colab_link": true
    },
    "kernelspec": {
      "name": "python3",
      "display_name": "Python 3"
    },
    "language_info": {
      "name": "python"
    }
  },
  "cells": [
    {
      "cell_type": "markdown",
      "metadata": {
        "id": "view-in-github",
        "colab_type": "text"
      },
      "source": [
        "<a href=\"https://colab.research.google.com/github/DataDaniels/python_desafio_devpro/blob/main/desafio3_decomposicao_numeros.ipynb\" target=\"_parent\"><img src=\"https://colab.research.google.com/assets/colab-badge.svg\" alt=\"Open In Colab\"/></a>"
      ]
    },
    {
      "cell_type": "markdown",
      "source": [
        "# DECOMPOSIÇÃO DE NÚMERO INTEIRO"
      ],
      "metadata": {
        "id": "M6zsO7oqbn-U"
      }
    },
    {
      "cell_type": "markdown",
      "source": [
        "O objetivo deste programa é decompor um número inteiro abaixo de 1000 e imprimir a quantidade de centenas, dezenas e unidades."
      ],
      "metadata": {
        "id": "BI_9pf7Qb2LK"
      }
    },
    {
      "cell_type": "markdown",
      "source": [
        "O código tem certa complexidade portanto é possível analisá-lo em duas células: na primeira somente o código e na segunda o código comentado."
      ],
      "metadata": {
        "id": "YIQj6NgzMauF"
      }
    },
    {
      "cell_type": "code",
      "source": [
        "numero = 326\n",
        "\n",
        "centenas_str = dezenas_str = unidades_str = ''\n",
        "\n",
        "centenas_int, numero = divmod(numero, 100)\n",
        "\n",
        "partes_numericas = 0\n",
        "\n",
        "if centenas_int == 1:\n",
        "  centenas_str = '1 centena'\n",
        "  partes_numericas += 1\n",
        "elif centenas_int > 1:\n",
        "  centenas_str = f'{centenas_int} centenas'\n",
        "  partes_numericas += 1\n",
        "\n",
        "dezenas_int, numero = divmod(numero, 10)\n",
        "if dezenas_int == 1:\n",
        "  dezenas_str = '1 dezena'\n",
        "  partes_numericas += 1\n",
        "elif dezenas_int > 1:\n",
        "  dezenas_str = f'{dezenas_int} dezenas'\n",
        "  partes_numericas += 1\n",
        "\n",
        "if numero == 1:\n",
        "  unidades_str = '1 unidade'\n",
        "  partes_numericas += 1\n",
        "elif numero > 1:\n",
        "  unidades_str = f'{numero} unidades'\n",
        "  partes_numericas += 1\n",
        "\n",
        "if partes_numericas == 0:\n",
        "  print('Número 0 não possui centenas, dezenas ou unidades')\n",
        "elif partes_numericas == 1:\n",
        "  print(centenas_str + dezenas_str + unidades_str)\n",
        "elif partes_numericas == 3:\n",
        "  print(f'{centenas_str}, {dezenas_str} e {unidades_str}')\n",
        "elif partes_numericas == 2:\n",
        "  if centenas_str != '':\n",
        "    segunda_parte = dezenas_str + unidades_str\n",
        "    print(f'{centenas_str} e {segunda_parte}')\n",
        "  else:\n",
        "    print(f'{dezenas_str} e {unidades_str}')"
      ],
      "metadata": {
        "colab": {
          "base_uri": "https://localhost:8080/"
        },
        "id": "F1ObHtsEMRYX",
        "outputId": "c2d1202b-17bb-4dfd-d9f3-e4c2fa7f09ba"
      },
      "execution_count": 28,
      "outputs": [
        {
          "output_type": "stream",
          "name": "stdout",
          "text": [
            "3 centenas, 2 dezenas e 6 unidades\n"
          ]
        }
      ]
    },
    {
      "cell_type": "code",
      "source": [
        "# É necessário fazer uma associação entre variáveis de números inteiros (int) e variáveis de string (str)\n",
        "# Na variável abaixo temos a variável que informe o número a ser impresso\n",
        "numero = 123\n",
        "\n",
        "# As três variáveis receberão a principio o valor vazio ('') pois em caso de a variável numero não apresentar alguma das três unidades de medida, não exibe a mesma\n",
        "centenas_str = dezenas_str = unidades_str = ''\n",
        "\n",
        "# É necessário dividir o numero por 100, será usada a função divmod que se utiliza de duas variáveis para realizar o programa\n",
        "# Para fazer uma divisão inteira, ou seja, sem considerar a parte fracionária é necessário usar // porém para este programa será usada a função divmod\n",
        "# A função divmod além de fazer a divisão inteira, armazena o restante do valor da divisão em uma variável permitindo que a sequência do código se utilize deste \"resto\"\n",
        "centenas_int, numero = divmod(numero, 100)\n",
        "\n",
        "# A variável partes_numericas é necessária para diferenciar partes dos números que são diferente de 0\n",
        "partes_numericas = 0\n",
        "\n",
        "# Se o resultado for igual a 1 exibe 1 centena (singular) mas se for maior que 1 exibe a quantidade de centenas e a palavra centenas no (plural)\n",
        "# Usa f string para inserir uma variável junto à um texto na linha 17, dessa forma automatiza o processo não sendo necessário mudar o código sempre que o numero mudar\n",
        "if centenas_int == 1:\n",
        "  centenas_str = '1 centena'\n",
        "# partes_numericas += 1 ............................................\n",
        "  partes_numericas += 1\n",
        "elif centenas_int > 1:\n",
        "  centenas_str = f'{centenas_int} centenas'\n",
        "  partes_numericas += 1\n",
        "\n",
        "# A mesma lógica é aplicada para dezenas, porém deve-se dividir por 10, criar variáveis int com nome adequado e alterar as strings para dezena\n",
        "dezenas_int, numero = divmod(numero, 10)\n",
        "\n",
        "if dezenas_int == 1:\n",
        "  dezenas_str = '1 dezena'\n",
        "  partes_numericas += 1\n",
        "elif dezenas_int > 1:\n",
        "  dezenas_str = f'{dezenas_int} dezenas'\n",
        "  partes_numericas += 1\n",
        "\n",
        "# Para a unidade não se faz necessário usar divmod pois na variável numero já contém o \"resto\" necessário para a realização do cálculo\n",
        "if numero == 1:\n",
        "  unidades_str = '1 unidade'\n",
        "  partes_numericas += 1\n",
        "elif numero > 1:\n",
        "  unidades_str = f'{numero} unidades'\n",
        "  partes_numericas += 1\n",
        "\n",
        "# Formatação de exibição: abaixo teremos a inclusão das regras onde é definida a resposta da string onde: parte numerica igual a 0, onde há 1 parte numérica, 2 ou 3 partes numericas:\n",
        "if partes_numericas == 0:\n",
        "  print('Número 0 não possui centenas, dezenas ou unidades')\n",
        "elif partes_numericas == 1:\n",
        "  print(centenas_str + dezenas_str + unidades_str)\n",
        "elif partes_numericas == 3:\n",
        "  print(f'{centenas_str}, {dezenas_str} e {unidades_str}')\n",
        "# Para o caso de termos somente 2 partes numericas é necessário criar algumas condições pois é mais complexo\n",
        "elif partes_numericas == 2:\n",
        "# Para aos casos em que a centena seja maior que 0 e dezena ou unidade igual a 0\n",
        "  if centenas_str != '':\n",
        "    segunda_parte = dezenas_str + unidades_str\n",
        "    print(f'{centenas_str} e {segunda_parte}')\n",
        "# Para os casos em que a centena seja igual a 0, o else presupõe isso pois a regra acima é para centena_str maior diferente de '' ou seja 0\n",
        "  else:\n",
        "    print(f'{dezenas_str} e {unidades_str}')\n",
        "\n",
        "\n",
        "# A linha abaixo serve somente para testar o código durante o desenvolvimento, deve ser excluída logo após a validação do mesmo por completo\n",
        "print(centenas_str, dezenas_str, unidades_str)"
      ],
      "metadata": {
        "colab": {
          "base_uri": "https://localhost:8080/"
        },
        "id": "vC3N069vcw2z",
        "outputId": "8bb52c4f-2fc4-4821-eabb-e686723ea4a4"
      },
      "execution_count": 24,
      "outputs": [
        {
          "output_type": "stream",
          "name": "stdout",
          "text": [
            "1 centena, 2 dezenas e 3 unidades\n",
            "1 centena 2 dezenas 3 unidades\n"
          ]
        }
      ]
    }
  ]
}