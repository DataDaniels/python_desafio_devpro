{
  "nbformat": 4,
  "nbformat_minor": 0,
  "metadata": {
    "colab": {
      "provenance": [],
      "authorship_tag": "ABX9TyOllHKt6Z+gF6PXkOcKnZXX",
      "include_colab_link": true
    },
    "kernelspec": {
      "name": "python3",
      "display_name": "Python 3"
    },
    "language_info": {
      "name": "python"
    }
  },
  "cells": [
    {
      "cell_type": "markdown",
      "metadata": {
        "id": "view-in-github",
        "colab_type": "text"
      },
      "source": [
        "<a href=\"https://colab.research.google.com/github/DataDaniels/python_desafio_devpro/blob/main/desafio14_ordenar_lista_tuplas.ipynb\" target=\"_parent\"><img src=\"https://colab.research.google.com/assets/colab-badge.svg\" alt=\"Open In Colab\"/></a>"
      ]
    },
    {
      "cell_type": "markdown",
      "source": [
        "## ORDENANDO ELEMENTOS"
      ],
      "metadata": {
        "id": "1UoUs-VTtJLk"
      }
    },
    {
      "cell_type": "markdown",
      "source": [
        "O objetivo do programa é ordenar os usuários de acordo com o espaço ocupado."
      ],
      "metadata": {
        "id": "TutG5IL_tOW4"
      }
    },
    {
      "cell_type": "markdown",
      "source": [
        "Link para acessar os dados do arquivo usuarios.txt   [wiki python](https://wiki.python.org.br/ListaDeExerciciosProjetos)"
      ],
      "metadata": {
        "id": "yAO0Bsh3Cp1y"
      }
    },
    {
      "cell_type": "code",
      "execution_count": 14,
      "metadata": {
        "id": "1jnh9Y0psmZ1"
      },
      "outputs": [],
      "source": [
        "lista_de_dados=[]\n",
        "\n",
        "def transformar_em_megabytes (tamanho_em_bytes:str) -> float:\n",
        "  return int(tamanho_em_bytes)/ (2**10)  **2\n",
        "\n",
        "with open ('sample_data/usuarios.txt', 'r') as arquivo:\n",
        "  for linha in arquivo:\n",
        "    linha = linha.strip()\n",
        "    usuario = linha[:15]\n",
        "    tamanho_em_disco  = transformar_em_megabytes(linha[16:])\n",
        "    lista_de_dados.append((tamanho_em_disco, usuario))\n",
        "\n",
        "\n",
        "cabecalho='''ACME Inc.                            Uso do espaço em disco pelos usuários\n",
        "---------------------------------------------------------------------------------------\n",
        "Nr. Usuário          Espaço utilizado       % do uso\n",
        "'''\n",
        "\n",
        "lista_de_dados.sort(reverse=True)\n",
        "\n",
        "with open('sample_data/relatório.txt', 'w') as arquivo:\n",
        "  tamanho_total_consumido = sum([tamanho for tamanho, _ in lista_de_dados])\n",
        "  media = tamanho_total_consumido / len(lista_de_dados)\n",
        "  arquivo.writelines(cabecalho)\n",
        "  for indice, dados in enumerate(lista_de_dados, start=1):\n",
        "    tamanho_em_disco, usuario = dados\n",
        "    arquivo.writelines(\n",
        "        f'{indice:<4} {usuario} {tamanho_em_disco:9.2f} MB           '\n",
        "        f'{tamanho_em_disco/tamanho_total_consumido:>6.2%}\\n'\n",
        "        )\n",
        "  arquivo.writelines('\\n')\n",
        "  arquivo.writelines(f'Espaço total ocupado: {tamanho_total_consumido:.2f} MB\\n')\n",
        "  arquivo.writelines(f'Espaço médio ocupado: {media:.2f}  MB')"
      ]
    }
  ]
}